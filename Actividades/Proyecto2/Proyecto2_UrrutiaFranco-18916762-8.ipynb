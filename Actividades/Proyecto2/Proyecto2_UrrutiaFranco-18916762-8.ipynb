{
  "cells": [
    {
      "cell_type": "markdown",
      "id": "779ed47f-39c0-4766-872c-9eabc5e3effc",
      "metadata": {
        "id": "779ed47f-39c0-4766-872c-9eabc5e3effc"
      },
      "source": [
        "<h1><center>\n",
        "\n",
        "</center></h1>\n",
        "<font size=\"6\"><center>\n",
        "EIE 401\n",
        "PROCESAMIENTO DIGITAL MULTIMEDIA\n",
        "</center></font>\n",
        "\n",
        "\n",
        "<center><h2>Proyecto 2</h2></center>\n",
        "<center><h3>Procesamiento digital de señales</h3></center>\n",
        "<center><h3>Profesor: Jorge Cardenas</h3></center>\n",
        "\n",
        "<center><h3>Por: Franco Urrutia Ghiardo</h3></center>\n",
        "<center><h5>Pontificia Universidad Catolica de Valparaiso</h5></center>"
      ]
    },
    {
      "cell_type": "markdown",
      "id": "6b47b040-8e58-4896-8e6d-70ccabb2a252",
      "metadata": {
        "id": "6b47b040-8e58-4896-8e6d-70ccabb2a252"
      },
      "source": [
        "## 1. Carga de Datos\n"
      ]
    },
    {
      "cell_type": "code",
      "execution_count": null,
      "id": "89bae6a3-ef2d-4fe8-bb54-03966d278236",
      "metadata": {
        "id": "89bae6a3-ef2d-4fe8-bb54-03966d278236",
        "outputId": "c4834e1b-3601-427e-ac60-dbf2b1250e57"
      },
      "outputs": [
        {
          "name": "stdout",
          "output_type": "stream",
          "text": [
            "Archivos extraídos en: D:\\Proyecto2\\processed512\n"
          ]
        }
      ],
      "source": [
        "import os\n",
        "import zipfile\n",
        "import cv2\n",
        "import numpy as np\n",
        "import matplotlib.pyplot as plt\n",
        "import itertools\n",
        "import time\n",
        "\n",
        "#cargar una imagen y convertirla a escala de grises\n",
        "def load_image(path):\n",
        "    image = cv2.imread(path, cv2.IMREAD_GRAYSCALE)\n",
        "    if image is None:\n",
        "        raise ValueError(f\"Error al cargar la imagen en la ruta: {path}\")\n",
        "    return image\n",
        "\n",
        "zip_file = r'D:\\Proyecto2\\imagenes.zip'\n",
        "extract_folder = r'D:\\Proyecto2\\'\n",
        "\n",
        "with zipfile.ZipFile(zip_file, 'r') as zip_ref:\n",
        "    zip_ref.extractall(extract_folder)\n",
        "\n",
        "print(f\"Archivos extraídos en: {extract_folder}\")\n",
        "\n",
        "# Cargar las plantillas\n",
        "circle_template_path = r'D:\\Proyecto2\\circ_template.png'\n",
        "box_template_path = r'D:\\Proyecto2\\box_template.png'\n",
        "cross_template_path = r'D:\\Proyecto2\\cross_template.png'\n",
        "\n",
        "circle_template = load_image(circle_template_path)\n",
        "box_template = load_image(box_template_path)\n",
        "cross_template = load_image(cross_template_path)\n"
      ]
    },
    {
      "cell_type": "markdown",
      "id": "dda3f493-24a7-45bc-b0c6-e173d58f28c1",
      "metadata": {
        "id": "dda3f493-24a7-45bc-b0c6-e173d58f28c1"
      },
      "source": [
        "## 2. Transformar imagen\n"
      ]
    },
    {
      "cell_type": "code",
      "execution_count": null,
      "id": "5f517c4e-ee31-4cdf-b46c-687fef2ed5a8",
      "metadata": {
        "id": "5f517c4e-ee31-4cdf-b46c-687fef2ed5a8"
      },
      "outputs": [],
      "source": [
        "# Función para preprocesar la imagen y la plantilla\n",
        "def preprocesar(image):\n",
        "    filtered_image = cv2.bilateralFilter(image, 1, 75, 50) #filtro bilateral para mejorar botdes y reducir ruido\n",
        "    binary_image = cv2.adaptiveThreshold(filtered_image, 255, cv2.ADAPTIVE_THRESH_GAUSSIAN_C, cv2.THRESH_BINARY, 25, 15) #binarizado de la imagen\n",
        "    return binary_image\n"
      ]
    },
    {
      "cell_type": "markdown",
      "id": "ebc5404e-b4a9-4ca7-b4b2-e9159b772d15",
      "metadata": {
        "id": "ebc5404e-b4a9-4ca7-b4b2-e9159b772d15"
      },
      "source": [
        "## 3. Operaciones\n"
      ]
    },
    {
      "cell_type": "code",
      "execution_count": null,
      "id": "7b7e12ef-e903-48bc-8f44-b4c96247e808",
      "metadata": {
        "id": "7b7e12ef-e903-48bc-8f44-b4c96247e808"
      },
      "outputs": [],
      "source": [
        "dividir la imagen en 4 cuadrantes\n",
        "def definir_cuadrantes(image):\n",
        "    alto, ancho = image.shape[:2]\n",
        "    mitad_alto = alto // 2\n",
        "    mitadd_ancho = ancho // 2\n",
        "    cuadrantes = {\n",
        "        \"top_left\": image[:mitad_alto, :mitadd_ancho],\n",
        "        \"top_right\": image[:mitad_alto, mitadd_ancho:],\n",
        "        \"bottom_right\": image[mitad_alto:, mitadd_ancho:],\n",
        "        \"bottom_left\": image[mitad_alto:, :mitadd_ancho]\n",
        "    }\n",
        "    return cuadrantes\n",
        "\n",
        "# rotar la plantilla según  cuadrante\n",
        "def rotar(template, angulo):\n",
        "    template_rotada = template\n",
        "    if angulo == 90:\n",
        "        template_rotada = cv2.rotate(template, cv2.ROTATE_90_CLOCKWISE)\n",
        "    elif angulo == 180:\n",
        "        template_rotada = cv2.rotate(template, cv2.ROTATE_180)\n",
        "    elif angulo == 270:\n",
        "        template_rotada = cv2.rotate(template, cv2.ROTATE_90_COUNTERCLOCKWISE)\n",
        "    return template_rotada\n"
      ]
    },
    {
      "cell_type": "markdown",
      "id": "81a0032b-7ea5-4446-a343-580023ce9944",
      "metadata": {
        "id": "81a0032b-7ea5-4446-a343-580023ce9944"
      },
      "source": [
        "## 4. Matching\n"
      ]
    },
    {
      "cell_type": "code",
      "execution_count": null,
      "id": "95b93f65-86e2-4258-aeb0-dbe70cf212b0",
      "metadata": {
        "id": "95b93f65-86e2-4258-aeb0-dbe70cf212b0",
        "outputId": "273cf967-3dff-463d-ce29-b56ffa782bda"
      },
      "outputs": [
        {
          "name": "stdout",
          "output_type": "stream",
          "text": [
            "Tiempo total de procesamiento: 161.67415690422058 segundos\n"
          ]
        }
      ],
      "source": [
        "#  realizar la correlación cruzada normalizada\n",
        "def normalized_cross_correlation(image, template):\n",
        "    result = cv2.matchTemplate(image, template, cv2.TM_CCORR_NORMED)\n",
        "    _, max_val, _, max_loc = cv2.minMaxLoc(result)\n",
        "    return max_loc, max_val, result\n",
        "\n",
        "# Procesamiento de las imágenes\n",
        "folder_path = r'D:\\Proyecto2\\processed512'\n",
        "results = []\n",
        "\n",
        "# Inicializar matriz de confusión\n",
        "confusion_matrix = {\n",
        "    \"box\": {\"box\": 0, \"circ\": 0, \"cross\": 0},\n",
        "    \"circ\": {\"box\": 0, \"circ\": 0, \"cross\": 0},\n",
        "    \"cross\": {\"box\": 0, \"circ\": 0, \"cross\": 0}\n",
        "}\n",
        "\n",
        "start_time = time.time()\n",
        "\n",
        "# Iterar sobre cada imagen en la carpeta\n",
        "for filename in os.listdir(folder_path):\n",
        "    if filename.endswith(\".png\") or filename.endswith(\".jpg\"):\n",
        "        image_path = os.path.join(folder_path, filename)\n",
        "\n",
        "        # Cargar la imagen\n",
        "        image = load_image(image_path)\n",
        "\n",
        "        # Extraer etiquetas del nombre del archivo\n",
        "        parts = filename.split('_')\n",
        "        template_type = parts[0]  # box, circ, cross\n",
        "        unique_id = parts[2]  # identificador\n",
        "\n",
        "        # Obtener los cuadrantes de la imagen\n",
        "        quadrants = get_quadrants(image)\n",
        "\n",
        "        # Preprocesar los cuadrantes y las plantillas\n",
        "        prepo_cuad = {name: preeprocesar(quadrant) for name, quadrant in quadrants.items()}\n",
        "        prepro_circ_temp = preeprocesar(circle_template)\n",
        "        prepro_box_temp = preeprocesar(box_template)\n",
        "        prepro_cross_temp = preeprocesar(cross_template)\n",
        "\n",
        "        # Definir las rotaciones necesarias para cada cuadrante\n",
        "        rotations = {\n",
        "            \"top_left\": 0,\n",
        "            \"top_right\": 90,\n",
        "            \"bottom_right\": 180,\n",
        "            \"bottom_left\": 270\n",
        "        }\n",
        "\n",
        "        # Inicializar variables para acumular las correlaciones\n",
        "        sum_circle_correlation = 0\n",
        "        sum_box_correlation = 0\n",
        "        sum_cross_correlation = 0\n",
        "        num_quadrants = 0\n",
        "\n",
        "        # Evaluar cada cuadrante con la plantilla correspondiente\n",
        "        for quadrant_name, quadrant in prepo_cuad.items():\n",
        "            angle = rotations[quadrant_name]\n",
        "\n",
        "            rotated_circle_template = rotate_template(prepro_circ_temp, angle)\n",
        "            rotated_box_template = rotate_template(prepro_box_temp, angle)\n",
        "            rotated_cross_template = rotate_template(prepro_cross_temp, angle)\n",
        "\n",
        "\n",
        "            circle_loc, circle_val, circle_result = normalized_cross_correlation(quadrant, rotated_circle_template)\n",
        "            box_loc, box_val, box_result = normalized_cross_correlation(quadrant, rotated_box_template)\n",
        "            cross_loc, cross_val, cross_result = normalized_cross_correlation(quadrant, rotated_cross_template)\n",
        "\n",
        "                # Acumular las correlaciones\n",
        "            sum_circle_correlation += circle_val\n",
        "            sum_box_correlation += box_val\n",
        "            sum_cross_correlation += cross_val\n",
        "            num_quadrants += 1\n",
        "\n",
        "\n",
        "        # Calcular el promedio de correlaciones para esta imagen\n",
        "        avg_circle_correlation = sum_circle_correlation / num_quadrants if num_quadrants > 0 else 0\n",
        "        avg_box_correlation = sum_box_correlation / num_quadrants if num_quadrants > 0 else 0\n",
        "        avg_cross_correlation = sum_cross_correlation / num_quadrants if num_quadrants > 0 else 0\n",
        "\n",
        "        # Determinar la etiqueta predicha (plantilla con la correlación máxima)\n",
        "        predicted_label = None\n",
        "        if avg_circle_correlation > avg_box_correlation and avg_circle_correlation > avg_cross_correlation:\n",
        "            predicted_label = \"circ\"\n",
        "        elif avg_box_correlation > avg_circle_correlation and avg_box_correlation > avg_cross_correlation:\n",
        "            predicted_label = \"box\"\n",
        "        elif avg_cross_correlation > avg_circle_correlation and avg_cross_correlation > avg_box_correlation:\n",
        "            predicted_label = \"cross\"\n",
        "\n",
        "        # Almacenar los resultados en la lista\n",
        "        results.append({\n",
        "            \"Imagen\": filename,\n",
        "            \"Tipo Plantilla\": template_type,\n",
        "            \"ID Único\": unique_id,\n",
        "            \"Circle - Avg NCC\": avg_circle_correlation,\n",
        "            \"Box - Avg NCC\": avg_box_correlation,\n",
        "            \"Cross - Avg NCC\": avg_cross_correlation,\n",
        "            \"Predicción\": predicted_label\n",
        "        })\n",
        "\n",
        "        # Actualizar matriz de confusión\n",
        "        confusion_matrix[template_type][predicted_label] += 1\n",
        "\n",
        "\n",
        "\n",
        "# Fin de la medición de tiempo\n",
        "end_time = time.time()\n",
        "print(f\"Tiempo total de procesamiento: {end_time - start_time} segundos\")\n"
      ]
    },
    {
      "cell_type": "markdown",
      "id": "39938cd2-8a0c-4565-9ab7-e8f1789dcbd4",
      "metadata": {
        "id": "39938cd2-8a0c-4565-9ab7-e8f1789dcbd4"
      },
      "source": [
        "## 5. Clasificación\n"
      ]
    },
    {
      "cell_type": "code",
      "execution_count": null,
      "id": "fc136ea4-e873-4dbe-a84f-7ada27cfab6e",
      "metadata": {
        "id": "fc136ea4-e873-4dbe-a84f-7ada27cfab6e",
        "outputId": "e8fdadaa-d3bd-482a-cf26-40ca99d8495a"
      },
      "outputs": [
        {
          "data": {
            "image/png": "[encoded data removed]",
            "text/plain": [
              "<Figure size 800x600 with 2 Axes>"
            ]
          },
          "metadata": {},
          "output_type": "display_data"
        }
      ],
      "source": [
        "# Obtener etiquetas y valores de la matriz de confusión\n",
        "labels = list(confusion_matrix.keys())\n",
        "values = np.array([[confusion_matrix[label][pred] for pred in confusion_matrix[label]] for label in labels])\n",
        "\n",
        "# Generar y guardar la imagen de la matriz de confusión\n",
        "plt.figure(figsize=(8, 6))\n",
        "plt.imshow(values, interpolation='nearest', cmap=plt.cm.Blues)\n",
        "\n",
        "# Anotar cada celda con el valor correspondiente\n",
        "for i, j in itertools.product(range(values.shape[0]), range(values.shape[1])):\n",
        "    plt.text(j, i, format(values[i, j], 'd'),\n",
        "             horizontalalignment=\"center\",\n",
        "             color=\"white\" if values[i, j] > values.max() / 2. else \"black\")\n",
        "\n",
        "plt.title('Matriz de Confusión')\n",
        "plt.colorbar()\n",
        "tick_marks = np.arange(len(labels))\n",
        "plt.xticks(tick_marks, labels)\n",
        "plt.yticks(tick_marks, labels)\n",
        "plt.ylabel('Etiqueta Real')\n",
        "plt.xlabel('Etiqueta Predicha')\n",
        "plt.tight_layout()\n",
        "plt.savefig('matriz_confusion.png', dpi=300)\n",
        "plt.show()\n"
      ]
    },
    {
      "cell_type": "markdown",
      "id": "ecec64b4-e0dc-43bb-8315-1a7e3efdadaa",
      "metadata": {
        "id": "ecec64b4-e0dc-43bb-8315-1a7e3efdadaa"
      },
      "source": [
        "## 6. Medición\n"
      ]
    },
    {
      "cell_type": "code",
      "execution_count": null,
      "id": "343ded2c-67bf-4580-bd88-aa2628cffc5b",
      "metadata": {
        "id": "343ded2c-67bf-4580-bd88-aa2628cffc5b",
        "outputId": "b9e6d0b0-adcc-41cf-9480-5b590fe63330"
      },
      "outputs": [
        {
          "name": "stdout",
          "output_type": "stream",
          "text": [
            "\n",
            "Ejemplos Bien Identificados:\n"
          ]
        },
        {
          "data": {
            "image/png": "[encoded data removed]",
            "text/plain": [
              "<Figure size 400x400 with 1 Axes>"
            ]
          },
          "metadata": {},
          "output_type": "display_data"
        },
        {
          "data": {
            "image/png": "[encoded data removed]",
            "text/plain": [
              "<Figure size 400x400 with 1 Axes>"
            ]
          },
          "metadata": {},
          "output_type": "display_data"
        },
        {
          "name": "stdout",
          "output_type": "stream",
          "text": [
            "\n",
            "Ejemplos Mal Identificados:\n"
          ]
        },
        {
          "data": {
            "image/png": "[encoded data removed]",
            "text/plain": [
              "<Figure size 400x400 with 1 Axes>"
            ]
          },
          "metadata": {},
          "output_type": "display_data"
        },
        {
          "data": {
            "image/png": "[encoded data removed]",
            "text/plain": [
              "<Figure size 400x400 with 1 Axes>"
            ]
          },
          "metadata": {},
          "output_type": "display_data"
        }
      ],
      "source": [
        "# Mostrar ejemplos bien identificados y mal identificados\n",
        "correctos = []\n",
        "incorrectos = []\n",
        "\n",
        "for result in results:\n",
        "    real_label = result[\"Tipo Plantilla\"]\n",
        "    predicted_label = result[\"Predicción\"]\n",
        "    if real_label == predicted_label:\n",
        "        correctos.append(result)\n",
        "    else:\n",
        "        incorrectos.append(result)\n",
        "\n",
        "print(\"\\nEjemplos Bien Identificados:\")\n",
        "for i, example in enumerate(correctos[:2]):\n",
        "    image_path = os.path.join(folder_path, example[\"Imagen\"])\n",
        "    image = load_image(image_path)\n",
        "    plt.figure(figsize=(4, 4))\n",
        "    plt.imshow(image, cmap='gray')\n",
        "    plt.title(f\"Real: {example['Tipo Plantilla']}, Predicción: {example['Predicción']}\")\n",
        "    plt.axis('off')\n",
        "    plt.show()\n",
        "\n",
        "print(\"\\nEjemplos Mal Identificados:\")\n",
        "for i, example in enumerate(incorrectos[:2]):\n",
        "    image_path = os.path.join(folder_path, example[\"Imagen\"])\n",
        "    image = load_image(image_path)\n",
        "    plt.figure(figsize=(4, 4))\n",
        "    plt.imshow(image, cmap='gray')\n",
        "    plt.title(f\"Real: {example['Tipo Plantilla']}, Predicción: {example['Predicción']}\")\n",
        "    plt.axis('off')\n",
        "    plt.show()\n"
      ]
    },
    {
      "cell_type": "code",
      "execution_count": null,
      "id": "387ad458-32ba-41cc-9e03-95156c87df0b",
      "metadata": {
        "id": "387ad458-32ba-41cc-9e03-95156c87df0b"
      },
      "outputs": [],
      "source": []
    }
  ],
  "metadata": {
    "kernelspec": {
      "display_name": "Python 3 (ipykernel)",
      "language": "python",
      "name": "python3"
    },
    "language_info": {
      "codemirror_mode": {
        "name": "ipython",
        "version": 3
      },
      "file_extension": ".py",
      "mimetype": "text/x-python",
      "name": "python",
      "nbconvert_exporter": "python",
      "pygments_lexer": "ipython3",
      "version": "3.11.7"
    },
    "colab": {
      "provenance": []
    }
  },
  "nbformat": 4,
  "nbformat_minor": 5
}